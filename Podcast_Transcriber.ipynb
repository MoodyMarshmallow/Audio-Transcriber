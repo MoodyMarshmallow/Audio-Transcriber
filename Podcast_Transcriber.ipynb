{
  "nbformat": 4,
  "nbformat_minor": 0,
  "metadata": {
    "colab": {
      "provenance": [],
      "authorship_tag": "ABX9TyPhPlME8fMVaYac2tOk/wo9",
      "include_colab_link": true
    },
    "kernelspec": {
      "name": "python3",
      "display_name": "Python 3"
    },
    "language_info": {
      "name": "python"
    }
  },
  "cells": [
    {
      "cell_type": "markdown",
      "metadata": {
        "id": "view-in-github",
        "colab_type": "text"
      },
      "source": [
        "<a href=\"https://colab.research.google.com/github/MoodyMarshmallow/Audio-Transcriber/blob/main/Podcast_Transcriber.ipynb\" target=\"_parent\"><img src=\"https://colab.research.google.com/assets/colab-badge.svg\" alt=\"Open In Colab\"/></a>"
      ]
    },
    {
      "cell_type": "code",
      "source": [
        "!pip install pydub openai mutagen"
      ],
      "metadata": {
        "colab": {
          "base_uri": "https://localhost:8080/"
        },
        "id": "5Wv-9XVSAArM",
        "outputId": "da2fe92c-5e1f-48da-e721-b37c3449dc6b"
      },
      "execution_count": 2,
      "outputs": [
        {
          "output_type": "stream",
          "name": "stdout",
          "text": [
            "Collecting pydub\n",
            "  Downloading pydub-0.25.1-py2.py3-none-any.whl.metadata (1.4 kB)\n",
            "Requirement already satisfied: openai in /usr/local/lib/python3.11/dist-packages (1.61.1)\n",
            "Collecting mutagen\n",
            "  Downloading mutagen-1.47.0-py3-none-any.whl.metadata (1.7 kB)\n",
            "Requirement already satisfied: anyio<5,>=3.5.0 in /usr/local/lib/python3.11/dist-packages (from openai) (3.7.1)\n",
            "Requirement already satisfied: distro<2,>=1.7.0 in /usr/local/lib/python3.11/dist-packages (from openai) (1.9.0)\n",
            "Requirement already satisfied: httpx<1,>=0.23.0 in /usr/local/lib/python3.11/dist-packages (from openai) (0.28.1)\n",
            "Requirement already satisfied: jiter<1,>=0.4.0 in /usr/local/lib/python3.11/dist-packages (from openai) (0.8.2)\n",
            "Requirement already satisfied: pydantic<3,>=1.9.0 in /usr/local/lib/python3.11/dist-packages (from openai) (2.10.6)\n",
            "Requirement already satisfied: sniffio in /usr/local/lib/python3.11/dist-packages (from openai) (1.3.1)\n",
            "Requirement already satisfied: tqdm>4 in /usr/local/lib/python3.11/dist-packages (from openai) (4.67.1)\n",
            "Requirement already satisfied: typing-extensions<5,>=4.11 in /usr/local/lib/python3.11/dist-packages (from openai) (4.12.2)\n",
            "Requirement already satisfied: idna>=2.8 in /usr/local/lib/python3.11/dist-packages (from anyio<5,>=3.5.0->openai) (3.10)\n",
            "Requirement already satisfied: certifi in /usr/local/lib/python3.11/dist-packages (from httpx<1,>=0.23.0->openai) (2025.1.31)\n",
            "Requirement already satisfied: httpcore==1.* in /usr/local/lib/python3.11/dist-packages (from httpx<1,>=0.23.0->openai) (1.0.7)\n",
            "Requirement already satisfied: h11<0.15,>=0.13 in /usr/local/lib/python3.11/dist-packages (from httpcore==1.*->httpx<1,>=0.23.0->openai) (0.14.0)\n",
            "Requirement already satisfied: annotated-types>=0.6.0 in /usr/local/lib/python3.11/dist-packages (from pydantic<3,>=1.9.0->openai) (0.7.0)\n",
            "Requirement already satisfied: pydantic-core==2.27.2 in /usr/local/lib/python3.11/dist-packages (from pydantic<3,>=1.9.0->openai) (2.27.2)\n",
            "Downloading pydub-0.25.1-py2.py3-none-any.whl (32 kB)\n",
            "Downloading mutagen-1.47.0-py3-none-any.whl (194 kB)\n",
            "\u001b[2K   \u001b[90m━━━━━━━━━━━━━━━━━━━━━━━━━━━━━━━━━━━━━━━━\u001b[0m \u001b[32m194.4/194.4 kB\u001b[0m \u001b[31m4.4 MB/s\u001b[0m eta \u001b[36m0:00:00\u001b[0m\n",
            "\u001b[?25hInstalling collected packages: pydub, mutagen\n",
            "Successfully installed mutagen-1.47.0 pydub-0.25.1\n"
          ]
        }
      ]
    },
    {
      "cell_type": "code",
      "source": [
        "import io\n",
        "from mutagen.mp3 import MP3\n",
        "from pydub import AudioSegment\n",
        "import openai\n",
        "import os\n",
        "from google.colab import userdata\n",
        "from tqdm import tqdm\n",
        "import json"
      ],
      "metadata": {
        "id": "1NGwYjsD-Rhk"
      },
      "execution_count": 30,
      "outputs": []
    },
    {
      "cell_type": "code",
      "source": [
        "# Set your OpenAI API key\n",
        "api_key = userdata.get('OPENAI_API_KEY')  # Replace with your actual API key\n",
        "client = openai.OpenAI(api_key=api_key)"
      ],
      "metadata": {
        "id": "U2wR32xEHCmj"
      },
      "execution_count": 27,
      "outputs": []
    },
    {
      "cell_type": "code",
      "source": [
        "def split_mp3(input_file, max_size_mb=25):\n",
        "    max_size_bytes = max_size_mb * 1024 * 1024\n",
        "    buffer_bytes = 100 * 1024  # 100KB buffer for headers/metadata\n",
        "\n",
        "    # Get the audio file's bitrate using mutagen\n",
        "    try:\n",
        "        audio_info = MP3(input_file).info\n",
        "    except Exception as e:\n",
        "        raise ValueError(f\"Could not read MP3 file: {e}\")\n",
        "\n",
        "    bitrate = audio_info.bitrate  # in bits per second\n",
        "\n",
        "    # Calculate the maximum duration per chunk in milliseconds\n",
        "    max_data_size = max_size_bytes - buffer_bytes\n",
        "    chunk_duration_ms = int((max_data_size * 8 * 1000) / bitrate)\n",
        "\n",
        "    if chunk_duration_ms <= 0:\n",
        "        raise ValueError(\"Bitrate is too high for the maximum size, cannot split into valid chunks.\")\n",
        "\n",
        "    # Load the audio file using pydub\n",
        "    try:\n",
        "        audio = AudioSegment.from_mp3(input_file)\n",
        "    except Exception as e:\n",
        "        raise ValueError(f\"Could not load MP3 file with pydub: {e}\")\n",
        "\n",
        "    total_duration_ms = len(audio)\n",
        "    start = 0\n",
        "    chunks = []\n",
        "    total_chunks = (total_duration_ms + chunk_duration_ms - 1) // chunk_duration_ms\n",
        "\n",
        "\n",
        "    with tqdm(total=total_chunks, desc=\"Splitting audio\", unit=\"chunk\") as pbar:\n",
        "        while start < total_duration_ms:\n",
        "            end = start + chunk_duration_ms\n",
        "            if end > total_duration_ms:\n",
        "                end = total_duration_ms\n",
        "\n",
        "            # Extract the chunk\n",
        "            chunk = audio[start:end]\n",
        "\n",
        "            # Export to BytesIO\n",
        "            buffer = io.BytesIO()\n",
        "            try:\n",
        "                chunk.export(buffer, format=\"mp3\", bitrate=f\"{bitrate//1000}k\")\n",
        "            except Exception as e:\n",
        "                raise IOError(f\"Failed to export chunk: {e}\")\n",
        "\n",
        "            # Verify the chunk size\n",
        "            buffer_size = buffer.getbuffer().nbytes\n",
        "            if buffer_size > max_size_bytes:\n",
        "                raise RuntimeError(\n",
        "                    f\"Chunk {len(chunks)+1} exceeded {max_size_mb}MB. \"\n",
        "                    \"Consider reducing the buffer size or checking the bitrate accuracy.\"\n",
        "                )\n",
        "\n",
        "            buffer.seek(0)\n",
        "            chunks.append(buffer)\n",
        "\n",
        "            start = end\n",
        "            pbar.update(1)\n",
        "\n",
        "    return chunks\n",
        "\n",
        "def get_cost_whisper(audio_file):\n",
        "    audio = AudioSegment.from_file(audio_file)\n",
        "    # Whisper pricing: $0.006 / minute\n",
        "    audio_duration = audio.duration_seconds\n",
        "    cost_per_minute = 0.006\n",
        "    cost = (audio_duration / 60) * cost_per_minute\n",
        "    return cost"
      ],
      "metadata": {
        "id": "uRs-4tej8yd1"
      },
      "execution_count": 32,
      "outputs": []
    },
    {
      "cell_type": "code",
      "source": [
        "split_audio = split_mp3('/content/Edward Mehr talks to S3 about building Machina Labs.mp3')\n",
        "print(split_audio)\n",
        "print(len(split_audio))\n",
        "print(type(split_audio[0]))"
      ],
      "metadata": {
        "id": "RQHC2l1ixtSv",
        "colab": {
          "base_uri": "https://localhost:8080/"
        },
        "outputId": "73170400-924c-4a8e-af58-014ce024a4a4"
      },
      "execution_count": 14,
      "outputs": [
        {
          "output_type": "stream",
          "name": "stderr",
          "text": [
            "Splitting audio: 100%|██████████| 2/2 [00:36<00:00, 18.44s/chunk]"
          ]
        },
        {
          "output_type": "stream",
          "name": "stdout",
          "text": [
            "[<_io.BytesIO object at 0x788c1384abb0>, <_io.BytesIO object at 0x788c13849800>]\n",
            "2\n",
            "<class '_io.BytesIO'>\n"
          ]
        },
        {
          "output_type": "stream",
          "name": "stderr",
          "text": [
            "\n"
          ]
        }
      ]
    },
    {
      "cell_type": "code",
      "execution_count": 18,
      "metadata": {
        "id": "oIuTLDS7Hx3L"
      },
      "outputs": [],
      "source": [
        "def transcribe_audio(audio_file_path):\n",
        "    filler_text = \"\"\"\n",
        "    The website doesn't have the theme I was going for. Something summery;\n",
        "    colorful. This looks perfect. Just Photoshop out the dog, add a baby,\n",
        "    and make the curtains blue. We also need to add this 2000 line essay.\n",
        "    Can the black be darker? Can you make it stand out more? I know you've made\n",
        "    thirty iterations, but can we go back to the first one? That was the best\n",
        "    version I remember. I'll know it when I see it; that’s not what I saw in my\n",
        "    head at all. Can you put \"find us on facebook\" by the facebook logo?\n",
        "    \"\"\"\n",
        "    try:\n",
        "        with open(audio_file_path, \"rb\") as audio_file:\n",
        "            transcripts = []\n",
        "            segments = split_mp3(audio_file)\n",
        "            for i, audio_segment in tqdm(enumerate(segments), total=len(segments), desc=\"Transcribing\", unit=\"segment\"):\n",
        "                transcripts.append(\n",
        "                        client.audio.transcriptions.create(\n",
        "                        file=(\"segment.mp3\", audio_segment, \"audio/mpeg\"),\n",
        "                        model=\"whisper-1\",\n",
        "                        response_format=\"verbose_json\",\n",
        "                        prompt= filler_text if i==0 else transcripts[-1].text,\n",
        "                        timestamp_granularities=[\"segment\"]\n",
        "                        )\n",
        "                    )\n",
        "        return transcripts\n",
        "    except FileNotFoundError:\n",
        "        print(f\"Error: File not found at {audio_file_path}\")\n",
        "        return None"
      ]
    },
    {
      "cell_type": "code",
      "source": [
        "def merge_verbose_json_outputs(verbose_json_list):\n",
        "    \"\"\"\n",
        "    Merges a list of verbose JSON outputs from the transcribe_audio function\n",
        "    into a single JSON object.\n",
        "\n",
        "    Args:\n",
        "        verbose_json_list (list): A list of verbose JSON outputs.\n",
        "\n",
        "    Returns:\n",
        "        dict: A single JSON object containing all the merged data.\n",
        "    \"\"\"\n",
        "\n",
        "    merged_transcript = verbose_json_list[0]\n",
        "\n",
        "    for verbose_json in (verbose_json_list[1:]):\n",
        "        segments = verbose_json.segments\n",
        "        text = verbose_json.text\n",
        "        for segment in segments:\n",
        "            segment.start += merged_transcript.duration\n",
        "            segment.end += merged_transcript.duration\n",
        "            segment.id += len(merged_transcript.segments)\n",
        "        merged_transcript.duration += verbose_json.duration\n",
        "        merged_transcript.text += text\n",
        "        merged_transcript.segments.extend(segments)\n",
        "    return merged_transcript"
      ],
      "metadata": {
        "id": "bG_NWN0WA2eR"
      },
      "execution_count": 48,
      "outputs": []
    },
    {
      "cell_type": "code",
      "source": [
        "def detect_speakers(transcript, num_speakers):\n",
        "\n",
        "    # Use GPT-4o-mini to determine who spoke which segment.\n",
        "    system_prompt = f\"\"\"\n",
        "    You are a helpful AI assistant to a professional transcriber. Your task is to\n",
        "    identify which of the {num_speakers} speakers spoke which parts of a given\n",
        "    transcript. Please be careful to leave the timestamps in the transcript.\n",
        "    Format your response like so:\n",
        "\n",
        "        Speaker 1 (John Daniels)\n",
        "        (00:00) How many people are there in your family?\n",
        "\n",
        "        Speaker 2 (Janet Jones)\n",
        "        (00:02) There are five people in my family. (0:04) My father, mother, brother, sister, and me.\n",
        "\n",
        "        Speaker 1 (John Daniels)\n",
        "        (00:10) Does your family live in a house or an apartment?\n",
        "\n",
        "        Speaker 2 (Janet Jones)\n",
        "        (00:13) We live in a house in the countryside.\n",
        "\n",
        "        Speaker 1 (John Daniels)\n",
        "        (00:17) What does your father do?\n",
        "\n",
        "        Speaker 2 (Janet Jones)\n",
        "        (00:19) My father is a doctor. (00:21) He works at the local hospital.\n",
        "    \"\"\"\n",
        "\n",
        "    response = client.chat.completions.create(\n",
        "        model=\"gpt-4o-mini\",\n",
        "        temperature=0,\n",
        "        messages=[\n",
        "        {\"role\": \"system\", \"content\": system_prompt},\n",
        "        {\"role\": \"user\", \"content\": transcript},\n",
        "        ]\n",
        "    )\n",
        "    speakers = response.choices[0].message.content\n",
        "    return speakers"
      ],
      "metadata": {
        "id": "v5gmA32CSCLR"
      },
      "execution_count": 71,
      "outputs": []
    },
    {
      "cell_type": "code",
      "source": [
        "def format_transcript(verbose_json, num_speakers=1):\n",
        "    \"\"\"\n",
        "    Converts OpenAI Whisper API's verbose JSON output into a timestamped text format.\n",
        "\n",
        "    Args:\n",
        "        verbose_json: Whisper API response in verbose JSON format\n",
        "\n",
        "    Returns:\n",
        "        str: Formatted text with timestamps like \"(0:10) Your text here\" with speakers indicated\n",
        "    \"\"\"\n",
        "\n",
        "    segments = verbose_json.segments\n",
        "    formatted_output = []\n",
        "    for segment in segments:\n",
        "        start_time = segment.start\n",
        "        hours = int(start_time // 3600)\n",
        "        minutes = int(start_time // 60)\n",
        "        seconds = int(start_time % 60)\n",
        "        if hours == 0:\n",
        "            timestamp = f\"({minutes:02d}:{seconds:02d})\"\n",
        "        else:\n",
        "            timestamp = f\"({hours}:{minutes:02d}:{seconds:02d})\"\n",
        "        text = (segment.text).strip()\n",
        "        formatted_output.append(f\"{timestamp} {text}\")\n",
        "\n",
        "    formatted_output = ' '.join(formatted_output)\n",
        "\n",
        "    if num_speakers > 1:\n",
        "        formatted_output = detect_speakers(formatted_output, num_speakers)\n",
        "    return formatted_output"
      ],
      "metadata": {
        "id": "RKc9fotJeGj2"
      },
      "execution_count": 63,
      "outputs": []
    },
    {
      "cell_type": "code",
      "source": [
        "audio_file_path = \"/content/ed-mehr-machinas-robot-army-transform-manufacturing-interview-ezmp3cc_gct0gfxt.mp3\" # Replace with the path to your audio file\n",
        "num_speakers = 2 # replace with number of speakers in the transcript\n",
        "\n",
        "transcript_raw = merge_verbose_json_outputs(transcribe_audio(audio_file_path))\n",
        "transcript = format_transcript(transcript_raw, num_speakers=num_speakers)\n",
        "if transcript:\n",
        "    print(\"Transcription:\\n\", transcript)\n",
        "    print(f\"Total cost: ${get_cost_whisper(audio_file_path):.4f}\")"
      ],
      "metadata": {
        "colab": {
          "base_uri": "https://localhost:8080/"
        },
        "id": "b_uvLkkzCeaH",
        "outputId": "1f3d78b7-a5c7-4d35-b7e9-efedd01fe8c0"
      },
      "execution_count": 73,
      "outputs": [
        {
          "output_type": "stream",
          "name": "stderr",
          "text": [
            "Splitting audio: 100%|██████████| 3/3 [00:37<00:00, 12.44s/chunk]\n",
            "Transcribing: 100%|██████████| 3/3 [01:31<00:00, 30.55s/segment]\n"
          ]
        },
        {
          "output_type": "stream",
          "name": "stdout",
          "text": [
            "Transcription:\n",
            " Speaker 1 (Interviewer)\n",
            "(00:00) I really want to start is like early life because when I looked at your LinkedIn when (00:24) we were first preparing for the episode, the original podcast episode, I just couldn't (00:29) figure out why you're doing anything with manufacturing because I'm reading like software, (00:32) software, software, like very software centric person, study computer science. And then we (00:37) were listening to, I forgot which podcast episode it was you did. You're like, actually, (00:41) I went to boarding school. It was like very manufacturing focused. And I'm like, ah, that's (00:46) where the seed might have been planted. So let's start there. Talk about that boarding (00:50) school, the experience, how you got into it.\n",
            "\n",
            "Speaker 2 (Guest)\n",
            "(00:55) Yeah, so I went to all boys school. Yeah, (01:01) we had a lot of focus. It was a small school. I think we had a class of 60 people. So there (01:07) was a lot of focus on kind of like all around curriculum, right? You know, from academics, (01:11) academic curriculum, but also a lot of like hands on stuff. So, you know, we had shop (01:17) from very early on. I think we started shopping kind of like toward the end of elementary (01:22) school. Nice. So it started with like carpentry, working with wood, like softer material. And (01:29) then I think when we got into, when we went to high school, we started working more with (01:34) like metals. Initially, just like work with a plate, cut it into shapes, grind it, manually (01:40) polish it, sand it, you know, kind of make like, I don't know, like a bottle opener out (01:44) of it, right? Like something simple. And then people will start getting creative with projects (01:48) that's like, you know, as we got toward the end of the high school. And that's where I (01:52) kind of do some welding, some sheet shaping. So I always had that in my background. But, (01:58) you know, computers were always just fascinating, right? You always have this world where, at (02:03) least when I was in school, it's like, you know, it was just everything was possible, (02:07) right? Whereas with physical world, there was always limitations, right? So as I, you (02:12) know, as I went to school, I got more interested, or even toward the end of the high school, (02:17) I got more interested in programming. And I kind of went toward that way. But I kept (02:22) that hobby of making things, even though I was doing a lot of software stuff, right? (02:27) I worked a little bit at a shop in Pomona. Bobby Walden, I don't know if you guys know him, but (02:32) he's like a very famous sheet shaper, making like, you know, 1930s Fords, and hot rods, (02:38) kind of restoring them, making them from scratch. So, you know, spent some time in that shop. (02:42) Actually, when we started this company, one of the first early team activities was take everybody, (02:48) the early team to that shop, everybody made a bowl out of it. And kind of like just getting (02:55) to know like how you actually get a sheet to form in a complex shape just with hand. (03:01) And that gives you a lot of good intuition and why this process can be actually automated. (03:06) You know, it's one of those processes where you spend some time, you learn the skill by just (03:11) learning the patterns of what you do. And then it's very, and then you can kind of see how it's (03:17) relatively intuitive to make it automated. Anyway, so, yeah, manufacturing was always in (03:24) my background as a passion. And when I started, when I got the job offer from SpaceX, that was (03:30) good. Even though I went there as a software engineer, it was a good opportunity to kind (03:34) of combine both. I've worked on some of the manufacturing processes we had (03:39) from our vertical lift machines, but all the way that friction steer welding machines. (03:44) So that's when I started to combine it a little bit. And then obviously when I went to relativity, (03:49) even though again, my role was robotic and software, we were building a 3D printer, right? (03:54) And eventually I was in charge of that 3D printer. So there seemed to be a lot of software, (03:58) but always had like some kind of a connection to the hardware and manufacturing.\n",
            "\n",
            "Speaker 1 (Interviewer)\n",
            "(04:02) I want to kind of jump back to where you're talking about going to SpaceX. (04:07) In our research, we came across that it looked like you were offered like almost two times as (04:11) much pay to join Google at a similar time. I'd be interested in understanding why you wanted to (04:15) join SpaceX. Was that related to what you're talking about, this intersection of software (04:20) and manufacturing, or was there more that went to it?\n",
            "\n",
            "Speaker 2 (Guest)\n",
            "(04:24) Yeah, no, I think, yeah, intersection of (04:28) software and manufacturing was a big part of it, right? I remember I was interning at Google, (04:33) and if I would have gone back to Google at a time, it would have gotten too much twice (04:36) the amount that I would get at SpaceX. But SpaceX just sounded more exciting, right? (04:43) This is like 2012, 2013, when the engineering team was still pretty small compared to now. (04:50) There was only like a handful of flights, like four or five flights that were successful. (04:55) And they're like, you can come here, you can kind of like be flexible to choose to what you're (04:58) working on, your work is going to directly affect the vehicle or our manufacturing processes. (05:04) So yeah, having that ability to work on these things that are closer to hardware (05:08) was very exciting to me. And that's why, yeah, I chose kind of lower salary to go there.\n",
            "\n",
            "Speaker 1 (Interviewer)\n",
            "(05:12) That's awesome. Well, one thing I was going to ask, when you went to college, you know, (05:16) you decided to go down the computer science path, right? But you also studied business (05:20) administration. Did you know from like an early stage that you wanted to have something of your (05:24) own, a business of your own? Or was that just like, hey, you know, like I'm here, I like (05:28) engineering, let's just get some business knowledge while we're at it. If anything comes (05:32) of it, great. If not, whatever.\n",
            "\n",
            "Speaker 2 (Guest)\n",
            "(05:36) Yeah, no, I think I never had that kind of burning desire to like (05:41) be an entrepreneur or build something like a company, right? I always was interested in (05:46) projects and solving problems. There were certain problems that I was more interested in. (05:50) And if I could join a company that was solving that problem, then I was excited to do it there. (05:56) And I think entrepreneurship was more of a path to like, oh, nobody else is solving this problem. (06:00) Somebody got to do it. So let's put the team together and, you know, take a shot at it. (06:05) Um, business was, I don't know, I think I started getting, well, my dad, you know, (06:10) he was in the business world and he got his MBA, my sister as well. So I always was like, (06:14) kind of exposed to, to the concepts. And I really, um, I think I was excited from the perspective of (06:20) like, kind of like, how do you organize a team to kind of do something? So it was not like, (06:24) oh, I want to become a business person, but I really like organizational behavior. (06:29) Like, I really like it's your strategy classes on how do you go about solving some problem (06:34) that requires a group of people. Um, and it's a very complex environment where you have customers (06:41) and people are involved. Um, so that, that excited me. So it was mostly just like, (06:45) just learn about it more, ended up becoming a major. Um, but, uh, but yeah, never thought (06:51) about it. I was like, oh, I'm going to, I'm going to go into business.\n",
            "\n",
            "Speaker 1 (Interviewer)\n",
            "(06:55) Yeah. (06:56) Continuing down this rabbit hole of like your early life and how it prepared you (07:00) for this awesome company you've got going today. I'm curious, you mentioned your, (07:05) your dad had a business background. I know your sister's an entrepreneur as well. (07:09) Is there anything about like the way you guys were raised around the house or like the upbringing (07:13) that you had that made it really conducive for you and your sister to both become entrepreneurs? (07:18) Or is it something that like you kind of just stumbled upon out of this burning passion to (07:22) be solving big problems?\n",
            "\n",
            "Speaker 2 (Guest)\n",
            "(07:26) Yeah. Um, yeah, definitely. I think we were exposed to my (07:31) dad would also like, you know, start a couple of companies. So it was, there was always, (07:36) um, I think the biggest thing through starting companies is like not having to fear to start (07:41) something and not know what's going to happen. So I think that was something that when we were (07:46) earlier in our childhood that like, you know, I think our parents had my dad, my dad, like really (07:50) instilled in us. Um, but I don't think there was any push toward that. Like my other sister, (07:55) she's a doctor, right? Like she went completely down a professional route, you know, so very, (08:00) very different than us. And my mom is a chemistry teacher. So, so not somebody who ever did like (08:05) anything too risky or, um, you know, went down a profession that like that she liked and it was (08:10) very defined and nine to five. Right. Well, I've been in a chemistry classroom. That's also, (08:14) there's some inherent risk there with kids and chemicals, but yeah, I understand. Um, (08:19) yeah. So I think there's definitely like, you know, I think the, the, the, my dad had a, (08:23) had a role in kind of how we thought about problems, both me and my sister, but, um, (08:28) but never was like pushed that way because, because of it.\n",
            "\n",
            "Speaker 1 (Interviewer)\n",
            "(08:32) Gotcha. Yeah. Now, uh, one last (08:35) question about college. Uh, you started your undergrad in 2004 and you finished in 2012. (08:40) Yeah. So during that eight year period, you kept taking breaks to work at like, you know, (08:44) Google and some other companies. I'm curious why, like, were you just so like thirsty to get your (08:49) hands on something and you just couldn't do with the classroom anymore? You seem like that kind of (08:54) guy. You seem like you like to get your hands dirty.\n",
            "\n",
            "Speaker 2 (Guest)\n",
            "(08:58) Yeah. I think that was one piece that (09:02) like, you know, my dad was always upset about because I always like was a little bit rebellious. (09:07) Um, you know, I always thought, okay, school is good as long as we're building towards something (09:12) that's going to be a problem that's exciting to solve. Right. So every time I had an opportunity (09:16) during the school to be like, you know, I went and did an internship and, um, and then like, (09:21) you know, the people I work with said, okay, this is a cool problem. Seems like you, you know, (09:25) you really like it. Do you want to stay longer? And I was like, okay, this sounds more exciting (09:30) than going back and learning a subject at school. So, so I ended up doing that a lot. You know, (09:35) I stayed at Microsoft for a little bit, worked at a startup for a little bit, went to Google (09:39) for a little bit. Um, every time I had an opportunity to get hands on experience and (09:43) it was exciting problem. Um, I definitely kind of chose that, but then after a while I realized (09:48) I still need to learn more stuff and school is a good opportunity to do that. So I ended up going (09:53) back, um, until I didn't feel that way. Right. You know, I was like, okay, and when I went to (09:58) SpaceX, I was like, okay, no, I think, and also like things change. Now there's like, all the (10:02) stuff was online. You can learn a lot of stuff. So I was like, you don't really need to go back (10:06) to school to learn it. You can learn it on your own. Right. Um, but yeah, I think I always thought (10:12) of school as a mean to an end, not just like, oh, like you go through stages, like finish the school (10:17) and then you find a job and then you do the next thing. It's more like, what do you want to do? (10:21) Do the things you need to do to get that done. And, but that partially might be going to school.\n",
            "\n",
            "Speaker 1 (Interviewer)\n",
            "(10:26) Right. Did you ever consider dropping out? Like just not doing school because like you're saying (10:30) resources became available and all these opportunities.\n",
            "\n",
            "Speaker 2 (Guest)\n",
            "(10:34) Yeah, I did. I think a lot of (10:37) times, every time I blended those internships, there was like opportunities, like, can I just (10:40) continue this or go back to school? There's a lot of cool stuff that happened at school too. Like (10:45) I, you know, I met a lot of good professors, advisors. Right. Um, so yes, I thought about it, (10:51) but always like had, I didn't finish the major because I thought I'd have to definitely finish (10:55) it. It was more like there was a still more exciting stuff to do at school. That's why I (10:59) went back.\n",
            "\n",
            "Speaker 1 (Interviewer)\n",
            "(11:01) Awesome. Awesome. Now going into SpaceX, um, one of the things I heard you talking (11:06) about and correct me if I'm wrong, I think that might've planted the seed for Machina. You (11:11) mentioned that I think it was on the Falcon Heavy. Right. The engine couldn't get bigger. It could (11:16) only get taller because of the limitations you had with the manufacturing floor.\n",
            "\n",
            "Speaker 2 (Guest)\n",
            "(11:20) Yeah. It was (11:21) Falcon 9.\n",
            "\n",
            "Speaker 1 (Interviewer)\n",
            "(11:22) Falcon 9. Yeah. (11:24) Gotcha. So is that like, you were obviously doing software stuff, but you were working (11:29) on the manufacturing side as well. Is that where the idea of this manufacturing approach (11:34) might not be the best? We need an alternative. Come to your mind.\n",
            "\n",
            "Speaker 2 (Guest)\n",
            "(11:38) I think that's where I got exposed to like, what is the main challenge of manufacturing, (11:43) right? Um, the Falcon 9, as you said it, you know, the tooling that went into building (11:48) the tank and that vehicle was very static. These are the tools that you have to build (11:52) to either like, you know, wrap composites or do whatever you need to do to build the (11:56) vehicle. And that tooling is usually very expensive. And your shop floor, even to the (12:01) point that your shop floor and floor of the material is very dependent on this geometry (12:05) of your, the thing that you're trying to build and the material you're trying to build. So (12:09) every time you want to change that, you want to go slightly, maybe larger in diameter. (12:13) Almost you have to think about building a new factory. Right. And that's a huge limitation (12:17) if you think about it, right? Like, you know, once you made a choice on a design on a diameter (12:21) of the vehicle, you are done. Like you better make that work. Right. And, and it's not easy (12:26) to go back and change it. Um, so there was a lot of decision points at SpaceX. I remember (12:31) when, when I was there, there was a lot of fights around, like we're running out of space (12:35) in Falcon 9 on putting things, um, and it becoming very crowded to where put things, (12:40) right. And, and then, then people were fighting over like what to keep, what to get rid of. (12:45) The vehicle kept getting taller because they wanted to increase the capacity of the tank (12:49) so to go to higher orbits. Um, but it was just impossible to get it larger in diameter. (12:54) Um, and as a matter of fact, I think with, with Starship now, they're starting from scratch (12:59) in Texas, different facility, different type of tooling. It doesn't necessarily, the Falcon (13:04) 9 tooling obviously doesn't work for, for Starship. Um, so I think that's, we started (13:09) seeing some of the challenges of that. What's got me excited about 3d printing, because (13:14) 3d printing at that point was like this tool less kind of like, you know, miracle, right? (13:19) Like you can kind of build anything out of any material. You don't have to commit to (13:23) any specific tooling. And that's why I got excited joining Relativity after SpaceX. Um, (13:28) but yeah, I think that's where we saw the challenge, right? It's very hard to change (13:32) your design. And if you're like an engineer coming out of school, it's very discouraging (13:36) because that means like you can only go to those companies, work on one product for six, (13:40) seven years and that product better work. And then you kind of like walk yourself into (13:44) corners and you have to kind of figure out how to get out of it because you can't easily (13:48) change your design. Um, so it's very limiting. I think it's core of a lot of problems in (13:52) manufacturing, not just design iteration, lots of other problems also, like I think (13:56) downstream from the fact that you can't change your factories easily.\n",
            "\n",
            "Speaker 1 (Interviewer)\n",
            "(13:59) Right. So, you know, additive manufacturing, it seems like this silver bullet of like manufacturing, (14:04) right? Um, but we've seen a bunch of different industries adopted. I was going to ask you (14:09) why you joined Relativity, but you know, you already alluded to it. Um, do you think additive (14:14) has a strong future in the aerospace realm? Like, is it a solution that's going to scale?\n",
            "\n",
            "Speaker 2 (Guest)\n",
            "(14:19) Yeah. I think, I mean, additive is great. I mean, I come from additive, so I'm biased. (14:24) I love additive, right? I think additive manufacturing, you know, in a lot of applications delivers (14:30) on that promise of like, you can easily change your design. I, for example, I think rocket (14:34) engines, probably no rocket engine in the future will be manufactured any other way. (14:38) Really? I think, I think we'll go toward that way. (14:41) It's a lot of internal features, anything that looks like a heat exchanger where you (14:45) have a lot of internal features. Um, I think additive is just the route to go, right? Um, (14:51) I mean, think about traditionally how like they had to machine every inlet and it's a (14:55) huge, you know, really cost, really cost intensive process to do it any other way. So additive, (15:01) I think it went in that application. Um, there are applications like, you know, I mean, everybody (15:05) knows Invisalign, right? Perfect fit for, for additive, right? Um, mass customization, (15:12) it's much cheaper. So like additive, I think it's going to, it's a very, very, very, very (15:17) strong tool. But the way I think about it, it was just one of the tools in your tool belt, (15:22) right? I think for a while when additive came about, everybody thought, okay, that's the key (15:27) to automation. Like everything needs to be manufactured additively. I don't think that (15:32) is the case. I think additive has certain reach. The reach is rather limited, proved to be a little (15:37) bit limited in terms of the type of parts it can do. Obviously a lot of smart folks are working (15:42) on kind of expanding that reach and adding new material, new types of geometries, larger envelopes. (15:47) But at the end of the day, I mean, like all these years has gone by, I mean, additive industry is (15:51) around $16 billion industry, right? And when you compare it to sheet metal, for example, (15:56) sheet metal is $250 billion industry. Like, so like you kind of see the reach of the parts (16:01) are still very limited. So I think we need to start thinking about it more holistically. How (16:06) can we use all these tools and develop more agile tools like additive that can reach to other types (16:11) of parts and then create a factory platform that can use these different tools like a craftsman (16:19) picks up another tool, like you use a drill and then you're like, okay, I'm done with the drill. (16:23) Drill is not going to solve all of my problems. Now I need to pick up a welder and weld, right? (16:28) I think we need to start thinking about it a little bit more in terms of system and a platform (16:32) and develops other operations that are as agile as additive and then combine them together if (16:38) you want to think about the future of manufacturing.\n",
            "\n",
            "Speaker 1 (Interviewer)\n",
            "(16:42) So you're talking about like a dynamic manufacturing (16:45) platform versus the static, which has been the norm. Now my one pushback on this, I have very (16:50) limited knowledge of the aerospace sector. So I'm just letting you know. But what I know about (16:55) aerospace companies, they're typically pretty risk adverse. And from what I've heard, there's a bit (17:00) of friction trying to get them to adopt to new things. That's kind of, I guess, my main reservation (17:05) when it comes to additive, like are all these companies, at least the ones you're working with, (17:10) open to like incorporating more additive parts or are they still kind of waiting to see how it (17:14) plays out, get more data, more reliability? Like where do you think their head is at?\n",
            "\n",
            "Speaker 2 (Guest)\n",
            "(17:19) Yeah, on the additive side it has been very difficult. I think that was one of the reasons (17:23) also like I went to sheet metal with this company. Additive fundamentally is a different (17:29) process than the alternatives. The alternative may be machining or casting. And additive like (17:37) on the physics level is very different. Like, you know, you're kind of smelting and solidifying very (17:42) incrementally. And that creates a lot of issues like porosity cracking. And a lot of the parts (17:48) that are kind of candidate for additive are also very important mission critical parts, (17:53) right? Like a rocket engine you're thinking about, right? So the bar of accepting a new process is (17:58) really high. So I think there are like a bunch of things that's not working for additive in that (18:02) sense, where they went after really critical parts and the process is very different physically from (18:07) the traditional process. So it's very hard to qualify it and make sure that, okay, this is going (18:12) to be great. And the same as the other process we did for 30 years, especially if it's on a safety (18:17) critical applications like aviation, right? Where like people's lives are in danger. (18:23) So I think additive, the one biggest challenge with additive is finding the applications that (18:28) makes the most sense. Maybe they're not as critical, but then they're still very important. (18:32) Additive can bring a lot of value there. I think that's the dance that a lot of these additive (18:37) companies and us as well went into. And I think also like you will see that a lot of companies (18:42) on that world, in the additive world that are vertically integrating. Like for example, I think (18:47) that's one thing I appreciate about Relativity Space was like, it's very hard to replace one (18:52) part in a traditional company, but you can design for additive from scratch and account for all its (18:57) challenges. As long as you can kind of think about the scope of the problem as the whole vehicle, (19:02) not just one part. So that gives you more flexibility or application like Invisalign (19:06) where like, okay, just go end to end, find a business solution that end to end additive can (19:11) help. I think those has been like the most successful cases, but yeah, that's the challenge. (19:16) I think people are slowly building those specifications, getting there, but it has (19:20) been slow. It's been very slow.\n",
            "\n",
            "Speaker 1 (Interviewer)\n",
            "(19:24) I think we're progressing really well around your career story. (19:28) We've gotten through SpaceX. We've got the Relativity. What came between Relativity and the (19:34) founding of Machina? I'm just kind of interested in understanding the story, maybe (19:40) how you met your co-founder, how the team came together and what your thoughts were around, (19:44) hey, let's go from additively manufacturing rocket engines to let's use robots to form sheet metal. (19:49) What brought your mind from point A to point B and kind of take us along the ride, so to speak, (19:54) of how that happened?\n",
            "\n",
            "Speaker 2 (Guest)\n",
            "(19:58) One big thing I realized when I was at Relativity, I was really excited (20:03) about adding, but I'm still very excited about additive. We kind of talked about this a little (20:07) bit, is that the reach of additive proved to be very limited. There are certain type of parts, (20:13) like rocket engines, good fit, but then you start, for example, adding a thin wall structure, (20:18) tanks, then it becomes really tough because you go through that solidification melting process, (20:24) there are all kinds of stresses that are induced in the part, makes it really not the perfect fit (20:29) for additive process. So when I was at Relativity, I started thinking about (20:35) how can we kind of increase this reach of this type of agile process to other material and (20:41) other types of geometries. That's actually where I met my co-founder, Babak. Babak is a material (20:46) scientist. He was helping us at Relativity Space develop alloys for the 3D printing process. (20:51) He has extensive background. He was at a sheet product company called Novelis. They make sheet (20:59) metal parts or sheet metal flat roll parts for automotive industry and aerospace. So has (21:05) extensive background. Like I said, he's a PhD in material science. And we both have the same (21:12) kind of like annoyance with additive, which was like, additive is great, but the reach is limited. (21:17) What are the type of things we can do? What are the type of technologies we can develop to kind (21:22) of bring the same type of benefit additive has in terms of agility to other processes? (21:27) I started working with some of the academics we knew, folks from Northwestern and others. (21:32) I started looking at some of the other candidates. A sheet for metal forming came out. Actually, (21:37) like what we do here, we have to give credit. A lot of people have been working on this before us. (21:42) And for example, Jian Chao, who was one of our advisors, has been working on a similar (21:48) systems for the past 30 years. How can you incrementally deform a sheet into shape? (21:53) And we started kind of identifying that the pieces that makes that commercialized (21:57) exist today. And we're going to talk a little bit more about that robotic piece and artificial (22:02) intelligence. And we realized added, like for example, sheet metal compared to additive is (22:07) much larger industry, so we can have a much bigger impact. But really the thinking was, (22:13) how can we build a platform that can eventually use additive and develop other agile processes (22:19) that this platform can use to really move on to the next generation of manufacturing floors, (22:25) not through just one process, but through a platform, right? (22:29) So the thinking was basically how do you replicate what a craftsman used to do, like a blacksmith (22:34) used to do? (22:35) Because they're super flexible. (22:36) They can pick up different tools, apply it differently to the material, make all kinds (22:40) of different parts out of different material. (22:42) But they just didn't have a lot of throughput. (22:43) So how can we take that paradigm and kind of add a scale to it? (22:47) So that was the thinking behind Machina when we started.\n",
            "\n",
            "Speaker 1 (Interviewer)\n",
            "(22:52) It's funny you mentioned academia. (22:53) When our episode went live, one of our listeners reached out and they shared a video from a (22:58) couple of years ago. (22:59) I think, was it NASA? (23:01) NASA Research. (23:02) Yeah. (23:03) They were doing something like this, but at a smaller scale, and I think with a single (23:07) robotic arm versus two. (23:09) So they were like, hey, there's this also available. (23:12) What are the differences between what's already being done and what these guys are doing? (23:16) And I think you kind of touched on it. (23:17) I'm probably going to dive a little bit deeper with the AI and the two arms working together. (23:20) So that's really interesting.\n",
            "\n",
            "Speaker 2 (Guest)\n",
            "(23:24) Yeah. (23:25) I think a lot of people, like I said, this is, in a physical world, usually you find (23:30) a lot of legacy of people having been doing similar things in the past. (23:34) So people have been taking similar approaches, like some of those people are advisors. (23:39) I think Ford has been working on this concept for a while. (23:43) We've had Boeing working on this for a while. I think they all missed a key ingredient to make it commercialized. (23:48) And the key ingredients is like, how can you make the system cheap? (23:52) But also, most importantly, how can you make sure you can make accurate parts? (23:57) With one robot, you mentioned, you go in there and you can kind of imagine you guys have (24:02) mechanical background. (24:03) You push a sheet of metal from one side, the whole thing deforms in one direction. (24:08) The part ends up being inches off of your geometry. (24:12) So if you just do something simple like, oh, just form it in water lines. (24:16) So the key was like, how do we, what are the missing pieces so that we can make a part (24:20) that's like plus minus one millimeter accurate on an envelope of 12 foot by five foot? (24:25) I think those are the things that like, you can see something that looks like this, but (24:29) really comes down to the intelligence of the process and what are the missing pieces that (24:33) can make a usable part.\n",
            "\n",
            "Speaker 1 (Interviewer)\n",
            "(24:36) So let's get into that. (24:37) In our podcast, we call that the secret sauce, right? (24:39) So what is the magic to your secret sauce that gives you that plus or minus one millimeter (24:43) accuracy?\n",
            "\n",
            "Speaker 2 (Guest)\n",
            "(24:46) Yeah. (24:47) So I think the key came from when I was doing sheet shaping, right? (24:51) You don't, it's funny, like you don't, when you're forming a sheet of metal, you don't (24:55) necessarily hammer it in the most intuitive way. (24:58) You actually, it's like the way you hammer it to get it to the geometry is very non-intuitive. (25:03) You almost look like you're forming something else and then the end you get the right part. (25:07) And that's the key, right? (25:08) The key is like, if I'm forming a part, because once I'm like starting applying forces to (25:12) the sheet, the part moves in all kinds of different way globally. (25:16) The sheet has some type of a spring back. (25:18) It kind of, it is like, it's elastic a little bit, like you push it and you come back, it (25:23) just jumps back in, right? (25:25) So you need to almost figure out what do you need to hammer this part into that by the (25:29) end, it kind of jumps back into the right shape with all the stresses and movements (25:34) in the part. (25:36) So that's the key, key enabler of making accurate parts. (25:39) So what we ended up doing is like, we had to make a platform that allows us to gather (25:43) data like a craftsman that's looking at the part, gather data at every step of the way. (25:48) What is the force that I'm applying to the part? (25:51) How does the part look like at each point in time? (25:53) So can we start using this data to build models and say, okay, if I do this path, the final (25:59) part will look like this. (26:01) And then once you have a very good model of like saying, okay, I'm doing this path, the (26:06) final part will look like this. (26:07) I can inverse that model and say, okay, if I use, if I want this part, what is the right (26:12) set of process parameters I need to start with to get to that right part? (26:16) So almost trying to kind of reverse engineering what's happening in mind of the craftsman. (26:21) And that's a lot of like data gathering. (26:23) You need to build a platform that allows you to capture the data, but then also use that (26:26) data to do modeling, to figure out exactly what to form to get the right part.\n",
            "\n",
            "Speaker 1 (Interviewer)\n",
            "(26:30) So it's like this iterative process where you have this robotic solution, applying forces, a bunch of sensors gathering data, and then you have the outcome of that process. (26:36) So now you feed into a model and that model is now able to give you feedback of if you (26:40) want this end product, you need to have certain parameters modified to be X, Y, and Z.\n",
            "\n",
            "Speaker 2 (Guest)\n",
            "(26:44) Exactly.\n",
            "\n",
            "Speaker 1 (Interviewer)\n",
            "(26:45) Is that a good summary of it?\n",
            "\n",
            "Speaker 2 (Guest)\n",
            "(26:46) That's a good summary of it. (26:47) And I think the key was in the past, people like if you look at our advisors, they've (26:52) been using physics-based simulation to kind of come up with the right way of forming a (26:56) part that by the end it's the right part. (26:58) The problem with the physics-based simulations, you guys probably know like FEA or CFD, they're (27:02) not accurate, but also they take a long time. (27:05) And we realized in a 32 core machine, if you simulate a part that takes 15 minutes, it (27:10) takes one week. (27:12) So we were like, okay, maybe that's not the right approach. (27:16) Maybe we need to start creating a system that allows us to capture the data every step of (27:20) the way and then use empirical modeling as opposed to physics-based simulations. (27:25) I think that's one of the key enablers, but also creates a mode for us. (27:29) The more parts we form, the more data we have, the more we are able and solely we are able (27:34) to come up with the right process parameters for that alloy and that type of geometry.\n",
            "\n",
            "Speaker 1 (Interviewer)\n",
            "(27:39) I like, it's kind of a full circle talking about like when you were working at that hot (27:43) rod shop and then you also took the team there to do their two day apprenticeship, like the (27:48) best way to learn to form sheet metal physically by hand is just actually doing it and learning (27:53) from someone that knows how. (27:54) You've almost built a machine in some sorts, you know, this whole business with the artificial (27:59) intelligence related to it that is learning how to shape sheet metal by hand, you know, (28:04) by doing it itself and then learning from that. (28:07) Do you see any parallels between the sheet metal apprenticeship?\n",
            "\n",
            "Speaker 2 (Guest)\n",
            "(28:11) That was exactly what you brought up. (28:12) That was the point, right? (28:13) Like it's very experiential and it's funny. (28:16) It's similar to how the experience is very similar to some of the other AIML problems, (28:21) right? (28:22) A sheet shaper after a while knows exactly how to hammer a sheet of metal to get in shape, (28:27) but you explain why are you doing that? (28:29) And it'd be like they explain you in a very non, like kind of weird or magical way. (28:34) And it's like, well, I mean, if I do this, the part will deform a different way in the (28:38) other end and then eventually we'll get to the right place. (28:41) And so it's like very hard to know unless you actually start doing it and you're like, (28:45) oh, now I get it, right? (28:46) It's the same way how like, for example, like you look at an image of a dog and I'll get (28:51) to why I'm making this analogy. (28:52) Look at an image of a dog and you say, oh, that looks like a dog and the other one looks (28:55) like a cat. (28:56) Well, I can't really explain why you're saying this is a dog and that's a cat. (29:00) You just, in your mind, looking at a lot of images, you figured out how to differentiate (29:05) between these two. (29:06) There's some neural path in your brain that differentiates between the dog and a cat. (29:11) And I think the same thing happens when you're sheet forming. (29:14) At some point, you know how to form a sheet, but like you can't really explain it. (29:18) So the idea was if you expose enough data, the same way we automated using AIML and neural (29:23) networks, how you differentiate between cat and a dog. (29:26) And that's already a soft problem in an AI world. (29:30) Can you, if you feed enough data of forming material to a system, can they then figure (29:35) out how to form the right part, right? (29:38) Exactly what you said, right? (29:39) That was the motivation.\n",
            "\n",
            "Speaker 1 (Interviewer)\n",
            "(29:41) I think that's awesome. (29:42) And I love how we can see, you know, walking the way through your journey, we can see all (29:47) of this different experiences come together to form something that's really awesome in (29:52) a way that, you know, we call it the secret sauce. (29:54) I don't know if we're wearing t-shirts that say it on there, but, you know, the different (29:58) ingredients that you've picked up throughout your experience in life that formed this really (30:02) unique secret sauce that only Machina has that makes your team best positioned in the (30:06) world to attack this problem. (30:07) I think that's cool. \n",
            "\n",
            "Speaker 2 (Guest)\n",
            "(30:10) Yeah. (30:11) I think that was one of the challenges like probably like companies like Ford and others (30:15) have. (30:16) It's like you need kind of unique backgrounds, right? (30:19) That like traditional like hardware companies didn't have, right? (30:23) And I think that has been some of the challenge like for folks like Boeing or Ford who have (30:27) been doing a lot of research on this, didn't get it to the point where it can actually (30:31) form accurate parts that's usable for them. (30:34) But yeah, I think that's kind of, to me, that's the definition of creativity. (30:38) You kind of combine a bunch of different seemingly unrelated concepts together to create something (30:43) new, right?\n",
            "Total cost: $0.1800\n"
          ]
        }
      ]
    },
    {
      "cell_type": "code",
      "source": [
        "def export_string_to_file(text, filename=\"output.txt\"):\n",
        "    try:\n",
        "        with open(filename, \"w\") as file:\n",
        "            file.write(text)\n",
        "        print(f\"String successfully exported to '{filename}'\")\n",
        "    except Exception as e:\n",
        "        print(f\"An error occurred: {e}\")"
      ],
      "metadata": {
        "id": "D5SKleGGHHV2"
      },
      "execution_count": 74,
      "outputs": []
    },
    {
      "cell_type": "code",
      "source": [
        "my_string = format_transcript(transcript)\n",
        "export_string_to_file(my_string, \"ed-mehr-machinas-robot-army-transform-manufacturing-interview-ezmp3cc_gct0gfxt.txt\") # Replace with desired filename\n"
      ],
      "metadata": {
        "colab": {
          "base_uri": "https://localhost:8080/"
        },
        "id": "QJiMK2z4z6tr",
        "outputId": "ae3feac4-7b84-4be7-d7c9-b3118ecbb602"
      },
      "execution_count": 75,
      "outputs": [
        {
          "output_type": "stream",
          "name": "stdout",
          "text": [
            "String successfully exported to 'ed-mehr-machinas-robot-army-transform-manufacturing-interview-ezmp3cc_gct0gfxt.txt'\n"
          ]
        }
      ]
    }
  ]
}